{
 "cells": [
  {
   "cell_type": "markdown",
   "id": "88f8f895",
   "metadata": {},
   "source": [
    "### LangGraph 多智能体协作中文指南\n",
    "\n",
    "在单个领域中，通常一个智能体能够有效地使用一些工具，但即使是使用强大的模型（例如 GPT-4），它在使用大量工具时效果可能会有所降低。\n",
    "\n",
    "一种解决复杂任务的方法是采用“分而治之”的方式：为每个任务或领域创建一个专门的智能体，并将任务路由到正确的“专家”。\n",
    "\n",
    "本指南灵感来自 Wu 等人的论文《AutoGen: 通过多智能体对话实现下一代 LLM 应用》 展示了使用 LangGraph 进行多智能体协作的一种方法。\n",
    "\n",
    "### 工作流程概述\n",
    "\n",
    "工作流程清晰地展示了多智能体协作的核心步骤，便于理解 LangGraph 的实现方法。\n",
    "\n",
    "1. **定义工具**：为每个智能体提供专用的工具，例如 Tavily 搜索工具和 Python REPL 工具，用于执行特定任务。\n",
    "2. **定义辅助函数：agent_node**：将每个智能体与对应任务进行关联，定义图中的智能体节点，使其能够处理特定任务。\n",
    "3. **定义辅助函数：create_agent**：为每个任务创建独立的智能体，例如研究智能体、图表生成器智能体等。每个智能体使用独立的语言模型和工具。\n",
    "4. **定义研究智能体及节点: Researcher**: 研究智能体使用 Tavily 搜索工具，回应用户提问。\n",
    "5. **定义图表生成器智能体及节点: Chart_Generator**: 根据提供的数据，在沙盒环境执行 Python 代码生成图表。\n",
    "6. **导入预构建的工具节点: ToolNode**: 将2中定义的 Tavily 搜索工具和 Python REPL 工具作为一个工具节点，这样可以方便地在工作流中使用这些工具。\n",
    "7. **建立智能体节点间通信: AgentState**：通过 LangGraph 实现智能体间通信，智能体能够共享状态并相互协作完成复杂任务。\n",
    "8. **定义工作流（状态图)**：创建状态图以管理多智能体协作的流程，包含任务路由和边逻辑，确保正确的智能体按顺序执行。\n",
    "9. **执行工作流**：根据状态图执行多智能体任务，通过工具调用和智能体协作，完成目标任务并生成最终输出。\n",
    "\n",
    "最终的工作流执行时应像下图所示：\n",
    "\n",
    "![simple_multi_agent_diagram](./images/simple_multi_agent_diagram.png)\n"
   ]
  },
  {
   "cell_type": "code",
   "execution_count": 46,
   "id": "5fef8941",
   "metadata": {},
   "outputs": [
    {
     "name": "stderr",
     "output_type": "stream",
     "text": [
      "\n",
      "[notice] A new release of pip is available: 25.0.1 -> 25.1.1\n",
      "[notice] To update, run: python.exe -m pip install --upgrade pip\n"
     ]
    }
   ],
   "source": [
    "%%capture --no-stderr\n",
    "%pip install langchain langchain_openai langsmith pandas langchain_experimental matplotlib langgraph langchain_core"
   ]
  },
  {
   "cell_type": "code",
   "execution_count": null,
   "id": "e14e485f-3a3c-46fe-965d-48ca55de6928",
   "metadata": {},
   "outputs": [],
   "source": [
    "import getpass\n",
    "import os\n",
    "\n",
    "# 定义一个帮助函数来检查环境变量，如果不存在则提示用户输入\n",
    "def _set_if_undefined(var: str):\n",
    "    if not os.environ.get(var):\n",
    "        os.environ[var] = getpass.getpass(f\"请输入您的 {var}\")\n",
    "\n",
    "# 设置 OpenAI 和 Langchain API 密钥\n",
    "# _set_if_undefined(\"OPENAI_API_KEY\")\n",
    "# _set_if_undefined(\"LANGCHAIN_API_KEY\")\n",
    "# _set_if_undefined(\"TAVILY_API_KEY\")\n",
    "\n",
    "# 可选：在 LangSmith 中添加追踪功能\n",
    "# os.environ[\"LANGCHAIN_TRACING_V2\"] = \"true\"\n",
    "# os.environ[\"LANGCHAIN_PROJECT\"] = \"Multi-agent Collaboration\"\n",
    "\n",
    "\n"
   ]
  },
  {
   "cell_type": "markdown",
   "id": "3407bcc6",
   "metadata": {},
   "source": [
    "\n",
    "### 1. 定义工具\n",
    "\n",
    "接下来我们定义一些未来智能体将使用的工具。\n",
    "\n",
    "#### 注释说明：\n",
    "- `tavily_tool`: 定义了一个 Tavily 搜索工具，可以搜索最多 5 条结果。\n",
    "- `repl`: 定义了一个 Python REPL 工具，用于执行 Python 代码块。\n",
    "- `python_repl` 函数：这是一个装饰的工具函数，接受 Python 代码作为输入，并通过 `PythonREPL` 环境执行代码。成功执行后返回执行的代码和输出。如果发生错误，则捕获并返回错误信息。\n"
   ]
  },
  {
   "cell_type": "code",
   "execution_count": 48,
   "id": "4e729d1e",
   "metadata": {},
   "outputs": [],
   "source": [
    "from typing import Annotated\n",
    "\n",
    "from langchain_community.tools.tavily_search import TavilySearchResults\n",
    "from langchain_core.tools import tool\n",
    "from langchain_experimental.utilities import PythonREPL\n",
    "\n",
    "# Tavily 搜索工具，用于搜索\n",
    "tavily_tool = TavilySearchResults(max_results=5)\n",
    "\n",
    "# Python REPL 工具，用于执行 Python 代码\n",
    "repl = PythonREPL()\n",
    "\n",
    "@tool\n",
    "def python_repl(\n",
    "    code: Annotated[str, \"The python code to execute to generate your table show.\"],\n",
    "):\n",
    "    \"\"\"Use this to execute python code. If you want to see the output of a value,\n",
    "    you should print it out with `print(...)`. This is visible to the user.\"\"\"\n",
    "    try:\n",
    "        result = repl.run(code)\n",
    "    except BaseException as e:\n",
    "        return f\"Failed to execute. Error: {repr(e)}\"\n",
    "\n",
    "\n",
    "    return f\"Successfully executed:\\n```python\\n{code}\\n```\\n\"\n",
    "\n",
    "        \n",
    "    # result_str = f\"Successfully executed:\\n```python\\n{code}\\n```\\nStdout: {result}\"\n",
    "    \n",
    "    # return (\n",
    "    #     result_str + \"\\n\\nIf you have completed all tasks, respond with FINAL ANSWER.\"\n",
    "    # )"
   ]
  },
  {
   "cell_type": "markdown",
   "id": "6a379da6",
   "metadata": {},
   "source": [
    "-----------\n",
    "\n",
    "### 2. 辅助函数：智能体节点\n",
    "\n",
    "下面我们定义智能体节点函数（`agent_node`)，然后使用它分别定义2个智能体节点：\n",
    "- Researcher\n",
    "- Chart_Generator\n",
    "\n",
    "#### 注释说明：\n",
    "\n",
    "- `agent_node` 函数是一个辅助函数，用于创建一个智能体节点。它接受当前的 `state`（状态）、`agent`（智能体） 和 `name`（智能体的名称），并返回一个新的状态字典，包含消息和发送者。\n",
    "- `research_agent`: 使用 `create_agent` 函数创建了一个研究智能体，使用 `research_llm` 作为语言模型，并且绑定了 `tavily_tool` 搜索工具。\n",
    "- `chart_agent`: 同样使用 `create_agent` 创建了图表生成器智能体，使用 `chart_llm` 作为语言模型，并绑定了 `python_repl` 代码执行工具。\n",
    "- `functools.partial`: 用于创建特定名称的智能体节点，例如 `\"Researcher\"` 和 `\"Chart_Generator\"`，并与各自的智能体绑定。"
   ]
  },
  {
   "cell_type": "code",
   "execution_count": 49,
   "id": "910d2398",
   "metadata": {},
   "outputs": [],
   "source": [
    "import functools\n",
    "from langchain_core.messages import AIMessage\n",
    "from langchain_openai import ChatOpenAI,AzureChatOpenAI\n",
    "\n",
    "# 辅助函数：为智能体创建一个节点\n",
    "def agent_node(state, agent, name):\n",
    "    # 修正名称格式，移除空格并确保只包含合法字符\n",
    "    name = name.replace(\" \", \"_\").replace(\"-\", \"_\")  # 确保符合正则表达式要求\n",
    "\n",
    "    # 调用智能体，获取结果\n",
    "    result = agent.invoke(state)\n",
    "    \n",
    "    # 将智能体的输出转换为适合追加到全局状态的格式\n",
    "    if isinstance(result, ToolMessage):\n",
    "        pass  # 如果是工具消息，跳过处理\n",
    "    else:\n",
    "        # 将结果转换为 AIMessage，并排除部分字段\n",
    "        result = AIMessage(**result.dict(exclude={\"type\", \"name\"}), name=name)\n",
    "    \n",
    "    # 返回更新后的状态，包括消息和发送者\n",
    "    return {\n",
    "        \"messages\": [result],  # 包含新生成的消息\n",
    "        # 我们使用严格的工作流程，通过记录发送者来知道接下来传递给谁\n",
    "        \"sender\": name,\n",
    "    }"
   ]
  },
  {
   "cell_type": "markdown",
   "id": "7aec876b-9041-4ce1-a7ea-c81fba984bf6",
   "metadata": {
    "jp-MarkdownHeadingCollapsed": true
   },
   "source": [
    "#### 关于 `AIMessage` 构造\n",
    "\n",
    "`AIMessage` 是 LangChain 中用于表示 AI 模型回复的类，它封装了 AI 生成的文本或内容。为了让 Python 初学者更好地理解，我们可以从以下几个方面详细说明 `AIMessage` 的构造方法及其相关概念。\n",
    "\n",
    "##### `AIMessage` 构造方法简介\n",
    "\n",
    "在代码中，`AIMessage(**result.dict(exclude={\"type\", \"name\"}), name=name)` 这段代码使用了 `AIMessage` 的构造方法。`AIMessage` 的目的是将 AI 生成的消息封装起来，方便后续处理和传递。这里的构造方法通过传递字典参数创建 `AIMessage` 对象。\n",
    "\n",
    "##### `AIMessage` 类的常见构造参数：\n",
    "- **content**: 这是消息的主要部分，通常是 AI 模型生成的文本内容。例如，一个简单的对话模型可能会生成一个包含回答问题的字符串。\n",
    "- **name**: 可选参数，用于标识发送消息的 AI 模型或智能体的名称。在你的代码中，`name=name` 表示为智能体分配一个名称（如 `\"Researcher\"` 或 `\"Chart_Generator\"`），以便在不同智能体之间进行区分。\n",
    "- **additional_metadata**: 有时候，消息不仅仅包含文本内容，还可能附加其他元数据，如调用的工具、时间戳等。\n",
    "\n",
    "##### 深入理解构造方法中的步骤：\n",
    "\n",
    "1. **`result.dict()`**: \n",
    "   这一部分将 `result` 对象转换为字典。字典是一种键值对的结构，便于存储和管理数据。Python 中的 `dict()` 方法会把 `result` 对象的所有属性转换成字典的形式，方便在构造 `AIMessage` 时传递这些数据。\n",
    "\n",
    "2. **`exclude={\"type\", \"name\"}`**:\n",
    "   在构造 `AIMessage` 时，使用了 `exclude` 参数来排除某些不必要的字段。`type` 和 `name` 这两个字段不会被传递给 `AIMessage`，这是因为它们可能不是 AI 消息本身的必要部分或已经在其他地方定义过。\n",
    "\n",
    "3. **`name=name`**:\n",
    "   这里的 `name` 参数表示智能体的名称，它是在 `agent_node` 函数中作为参数传递的。在构造 `AIMessage` 时，通过这个参数来标识消息的来源智能体是谁，比如 `\"Researcher\"` 或 `\"Chart_Generator\"`。"
   ]
  },
  {
   "cell_type": "markdown",
   "id": "ea54902a-16d8-4395-8002-b23de0e1f2c6",
   "metadata": {},
   "source": [
    "\n",
    "### 3. 辅助函数：创建智能体\n",
    "\n",
    "以下助手函数将帮助我们创建智能体。这些智能体将成为图中的节点。\n",
    "\n",
    "#### 注释说明：\n",
    "- 该函数 `create_agent` 用于创建一个智能体，通过为该智能体提供系统消息和可以使用的工具来指定其行为。\n",
    "- `ChatPromptTemplate.from_messages` 是用于构建该智能体的对话提示模板，系统消息告诉智能体它是如何与其他智能体协作的。\n",
    "- 提示模板通过 `partial` 函数插入了系统消息和工具名称，使得智能体能够根据提供的工具执行任务。\n",
    "- 最终，智能体被绑定到所提供的 LLM（大型语言模型）和工具列表中，构成一个完整的智能体逻辑。\n"
   ]
  },
  {
   "cell_type": "code",
   "execution_count": 50,
   "id": "6530646d",
   "metadata": {},
   "outputs": [],
   "source": [
    "from langchain_core.messages import BaseMessage, HumanMessage, ToolMessage\n",
    "from langchain_core.prompts import ChatPromptTemplate, MessagesPlaceholder\n",
    "from langgraph.graph import END, StateGraph, START\n",
    "\n",
    "\n",
    "# 创建智能体的函数，绑定 LLM（大型语言模型） 和工具\n",
    "def create_agent(llm, tools, tool_message: str, custom_notice: str=\"\"):\n",
    "    \"\"\"创建一个智能体。\"\"\"\n",
    "    # 定义智能体的提示模板，包含系统消息和工具信息\n",
    "    prompt = ChatPromptTemplate.from_messages(\n",
    "        [\n",
    "            (\n",
    "                \"system\",\n",
    "                \"You are a helpful AI assistant, collaborating with other assistants.\"\n",
    "                \" Use the provided tools to progress towards answering the question.\"\n",
    "                \" If you are unable to fully answer, that's OK, another assistant with different tools \"\n",
    "                \" will help where you left off. Execute what you can to make progress.\"\n",
    "                \" If you or any of the other assistants have the final answer or deliverable,\"\n",
    "                \" prefix your response with FINAL ANSWER so the team knows to stop.\"\n",
    "                \"\\n{custom_notice}\\n\"\n",
    "                \" You have access to the following tools: {tool_names}.\\n{tool_message}\\n\\n\",\n",
    "            ),\n",
    "            MessagesPlaceholder(variable_name=\"messages\"),  # 用于替换的消息占位符\n",
    "\n",
    "        ]\n",
    "    )\n",
    "\n",
    "    # 将系统消息部分和工具名称插入到提示模板中\n",
    "    prompt = prompt.partial(tool_message=tool_message, custom_notice=custom_notice)\n",
    "    prompt = prompt.partial(tool_names=\", \".join([tool.name for tool in tools]))\n",
    "      \n",
    "    # 将提示模板与语言模型和工具绑定\n",
    "    return prompt | llm.bind_tools(tools)\n"
   ]
  },
  {
   "cell_type": "markdown",
   "id": "36f10083-abd4-49f9-a940-2e48a88da7c3",
   "metadata": {
    "jp-MarkdownHeadingCollapsed": true
   },
   "source": [
    "\n",
    "#### `partial` 是什么\n",
    "\n",
    "在 Python 中，`partial` 方法是 `functools` 模块中的一个功能，它用于创建一个**新的函数**，这个函数是基于原函数的**部分参数已经固定**的版本。这在需要重复调用同一函数，并且传递相同的某些参数时非常有用。\n",
    "\n",
    "####  `partial` 的基本理解\n",
    "\n",
    "通过 `partial`，我们可以预先为函数的某些参数赋值，生成一个新的函数，这个新函数已经预先固定了部分参数，只需要再传递剩下的参数即可。\n",
    "\n",
    "#### `prompt.partial` 解析\n",
    "\n",
    "这里的 `partial` 用于创建一个新的提示模板对象，并为 `system_message` 和 `tool_names` 这两个参数提供了值。这相当于对提示模板的“定制”，预先指定了这些参数的值。\n",
    "\n",
    "**`partial` 的具体作用：**\n",
    "\n",
    "1. 调用 `prompt.partial(system_message=system_message)`，预先为 `system_message` 参数赋值，生成一个新的提示模板，固定了系统消息的内容。\n",
    "2. 调用 `prompt.partial(tool_names=\", \".join([tool.name for tool in tools]))`，为 `tool_names` 参数赋值，将所有工具的名称合并成一个字符串，并固定在新的模板中。\n",
    "\n",
    "通过这两步 `partial` 调用，`prompt` 对象中已经预先填入了 `system_message` 和 `tool_names` 这两个参数，简化了后续的调用过程。\n",
    "\n",
    "--------------------"
   ]
  },
  {
   "cell_type": "markdown",
   "id": "b33515a5-14bf-4100-a5b7-7625fbf1bc9e",
   "metadata": {},
   "source": [
    "--------------\n",
    "\n",
    "### 4. 定义 研究智能体及其节点\n"
   ]
  },
  {
   "cell_type": "code",
   "execution_count": null,
   "id": "82030b1d-bf6d-4cc0-8f07-63fea8af9d88",
   "metadata": {},
   "outputs": [],
   "source": [
    "# 为 Agent 配置各自的大模型\n",
    "research_llm = AzureChatOpenAI(model=\"gpt4o\")\n",
    "chart_llm = AzureChatOpenAI(model=\"gpt4o\")\n",
    "table_llm = AzureChatOpenAI(model=\"gpt4o\")\n",
    "\n",
    "# 测试4o-mini\n",
    "research_llm = AzureChatOpenAI(model=\"gpt4o-mini\")\n",
    "chart_llm = AzureChatOpenAI(model=\"gpt4o-mini\")\n",
    "table_llm = AzureChatOpenAI(model=\"gpt4o-mini\")"
   ]
  },
  {
   "cell_type": "code",
   "execution_count": 52,
   "id": "b6dfa4ea-1cd1-423a-b24a-865308631d78",
   "metadata": {},
   "outputs": [],
   "source": [
    "# 研究智能体及其节点\n",
    "research_agent = create_agent(\n",
    "    research_llm,  # 使用 research_llm 作为研究智能体的语言模型\n",
    "    [tavily_tool],  # 研究智能体使用 Tavily 搜索工具\n",
    "    tool_message=(\n",
    "        \"Before using the search engine, carefully think through and clarify the query.\"\n",
    "        \" Then, conduct a single search that addresses all aspects of the query in one go\",\n",
    "    ),\n",
    "    custom_notice=(\n",
    "        \"Notice:\\n\"\n",
    "        \"Only gather and organize information. Do not generate code or give final conclusions, leave that for other assistants.\"\n",
    "    ),\n",
    ")"
   ]
  },
  {
   "cell_type": "code",
   "execution_count": 53,
   "id": "7aa442a3-c015-4d02-8216-518fd6c3aeb0",
   "metadata": {},
   "outputs": [],
   "source": [
    "# 使用 functools.partial 创建研究智能体的节点，指定该节点的名称为 \"Researcher\"\n",
    "research_node = functools.partial(agent_node, agent=research_agent, name=\"Researcher\")"
   ]
  },
  {
   "cell_type": "markdown",
   "id": "7f07df36-d186-45a2-bf96-8da29b39ad56",
   "metadata": {},
   "source": [
    "这里的 `functools.partial` 创建了一个新的函数 `research_node`，该函数基于原始的 `agent_node` 函数，且已经为 `agent_node` 的部分参数（`agent` 和 `name`）预先设置了值。新的 `research_node` 函数只需要接收剩余的参数就可以正常运行。\n",
    "\n",
    "\n",
    "**`partial` 的具体作用：**\n",
    "\n",
    "1. **原始函数 `agent_node`**：\n",
    "   ```python\n",
    "   def agent_node(state, agent, name):\n",
    "       # 函数体...\n",
    "   ```\n",
    "   - `agent_node` 是一个接受 `state`, `agent`, 和 `name` 三个参数的函数。\n",
    "\n",
    "2. **使用 `functools.partial`**：\n",
    "   ```python\n",
    "   research_node = functools.partial(agent_node, agent=research_agent, name=\"Researcher\")\n",
    "   ```\n",
    "   - 通过 `functools.partial`，我们创建了一个新的函数 `research_node`，它仍然是 `agent_node`，但 `agent` 参数和 `name` 参数已经被预先固定：\n",
    "     - `agent=research_agent`\n",
    "     - `name=\"Researcher\"`\n",
    "   - 也就是说，调用 `research_node` 时，只需要传递 `state` 参数，因为 `agent` 和 `name` 已经有默认值了。\n",
    "\n",
    "**举个例子**\n",
    "\n",
    "假设有一个函数 `agent_node`，你经常需要调用它并传递相同的 `agent` 和 `name`，那么每次调用时重复写这些参数会很冗余。使用 `partial` 可以避免这种重复。\n",
    "\n",
    "```python\n",
    "# 原始函数定义\n",
    "def agent_node(state, agent, name):\n",
    "    print(f\"State: {state}, Agent: {agent}, Name: {name}\")\n",
    "\n",
    "# 预先设置 agent 和 name 参数\n",
    "research_node = functools.partial(agent_node, agent=\"research_agent_value\", name=\"Researcher\")\n",
    "\n",
    "# 调用时只需要传递剩下的参数\n",
    "research_node(state=\"current_state\")\n",
    "# 输出: State: current_state, Agent: research_agent_value, Name: Researcher\n",
    "```\n",
    "\n",
    "#### `functools.partial` 的优势\n",
    "\n",
    "1. **减少重复代码**：在你需要多次调用同一个函数并且某些参数不变时，`partial` 可以避免每次都传递相同的参数。\n",
    "   \n",
    "2. **简化函数调用**：在需要频繁使用相同参数时，`partial` 提供了更简洁的写法，使代码更易于维护。\n",
    "\n",
    "#### 总结\n",
    "\n",
    "在这段代码中，`functools.partial` 的用法预先为 `agent_node` 函数的部分参数（`agent` 和 `name`）赋值，创建了一个新函数 `research_node`。调用 `research_node` 时，只需要传递剩下的参数（`state`），从而简化了函数调用的流程。\n",
    "\n",
    "------------------"
   ]
  },
  {
   "cell_type": "markdown",
   "id": "d149beb7-e216-4630-9b19-d3bc6949f5da",
   "metadata": {},
   "source": [
    "### 5. 定义 图表生成器智能体及其节点"
   ]
  },
  {
   "cell_type": "code",
   "execution_count": 54,
   "id": "c51bd833-1b7f-4287-b23d-11eb7f55ef6c",
   "metadata": {},
   "outputs": [],
   "source": [
    "chart_agent = create_agent(\n",
    "    chart_llm,  # 使用 chart_llm 作为图表生成器智能体的语言模型\n",
    "    [python_repl],  # 图表生成器智能体使用 Python REPL 工具\n",
    "    tool_message=\"Create clear and user-friendly charts based on the provided data.\",  # 系统消息，指导智能体如何生成图表\n",
    "    custom_notice=\"Notice:\\n\"\n",
    "    \"If you have completed all tasks, respond with FINAL ANSWER.\",\n",
    ")"
   ]
  },
  {
   "cell_type": "code",
   "execution_count": 55,
   "id": "268da6ad-d4b8-42c8-bb0f-4f41620c6e1c",
   "metadata": {},
   "outputs": [],
   "source": [
    "# 使用 functools.partial 创建图表生成器智能体的节点，指定该节点的名称为 \"Chart_Generator\"\n",
    "chart_node = functools.partial(agent_node, agent=chart_agent, name=\"Chart_Generator\")"
   ]
  },
  {
   "cell_type": "code",
   "execution_count": 56,
   "id": "f89987f1",
   "metadata": {},
   "outputs": [],
   "source": [
    "# 表格生成智能体配置\n",
    "table_agent = create_agent(\n",
    "    table_llm,          # 使用专门为表格处理优化的语言模型\n",
    "    [python_repl],      # 使用支持数据操作的Python REPL工具（可安装pandas/tabulate）\n",
    "    tool_message=\"Generate well-structured tables and perform data manipulation tasks. \" \n",
    "                 \"Always format output for optimal readability.\",\n",
    "    custom_notice=\"操作指南：\\n\"\n",
    "                \"1. 优先使用pandas DataFrame处理表格数据\\n\"\n",
    "                \"2. 最终展示请使用tabulate库美化格式\\n\"\n",
    "                \"3. 完成所有任务后请用FINAL ANSWER响应\"\n",
    ")\n",
    "\n",
    "# 创建带预设参数的节点\n",
    "table_node = functools.partial(\n",
    "    agent_node,\n",
    "    agent=table_agent,\n",
    "    name=\"Table_Show\"\n",
    ")"
   ]
  },
  {
   "cell_type": "markdown",
   "id": "f6708b47",
   "metadata": {},
   "source": [
    "\n",
    "### 6. 导入预构建的工具节点\n",
    "\n",
    "我们现在导入预构建的工具节点 `ToolNode` （运行上一个AIMessage中调用工具的节点。）。将 Tavily 搜索工具和 Python REPL 工具作为一个工具节点，这样可以方便地在工作流中使用这些工具。\n",
    "\n",
    "### 什么是 ToolNode？\n",
    "\n",
    "**ToolNode** 是 LangChain 的一个预构建节点，它能够从图状态（`graph state`）中提取消息并调用指定的工具，最后将工具调用的结果反馈回图的状态中。ToolNode 非常适合与 LangGraph 中的 ReAct agent 协同工作，但也可以与任何 `StateGraph` 配合使用，只要状态中有 `messages` 键和合适的消息处理方式。\n",
    "\n",
    "#### ToolNode 的特点\n",
    "1. **工具调用**：ToolNode 可以根据状态中的消息自动调用指定的工具，并返回工具的执行结果。\n",
    "2. **兼容性**：可以与任意支持工具调用的 LangChain 模型配合使用。\n",
    "3. **并行工具调用**：支持同时调用多个工具，并处理工具返回的多个结果。\n",
    "4. **错误处理**：ToolNode 默认启用了错误处理，可以处理工具在执行过程中的异常情况。\n",
    "\n",
    "#### 与对话模型结合使用\n",
    "\n",
    "在使用像 Anthropic 这样的对话模型时，模型可以自动生成带有 `tool_calls` 的 `AIMessage`，这样我们可以直接将模型生成的消息传给 ToolNode 来执行工具调用：\n",
    "\n",
    "```python\n",
    "from langchain_anthropic import ChatAnthropic\n",
    "from langgraph.prebuilt import ToolNode\n",
    "\n",
    "model_with_tools = ChatAnthropic(\n",
    "    model=\"claude-3-haiku-20240307\", temperature=0\n",
    ").bind_tools(tools)\n",
    "\n",
    "tool_node.invoke({\"messages\": [model_with_tools.invoke(\"what's the weather in sf?\")]})\n",
    "# 返回: {'messages': [ToolMessage(content=\"It's 60 degrees and foggy.\", name='get_weather', tool_call_id='toolu_01LFvAVT3xJMeZS6kbWwBGZK')]}\n",
    "```\n",
    "\n",
    "#### ToolNode 与 ReAct Agent 结合\n",
    "\n",
    "ReAct Agent 是 LangGraph 中的一种智能体，它会反复调用工具，直到收集到足够的信息来解决问题。以下是 ReAct Agent 的基本工作流，它通过工具节点来完成工具调用：\n",
    "\n",
    "```python\n",
    "from typing import Literal\n",
    "from langgraph.graph import StateGraph, MessagesState\n",
    "\n",
    "def should_continue(state: MessagesState) -> Literal[\"tools\", \"__end__\"]:\n",
    "    messages = state[\"messages\"]\n",
    "    last_message = messages[-1]\n",
    "    if last_message.tool_calls:\n",
    "        return \"tools\"\n",
    "    return \"__end__\"\n",
    "\n",
    "def call_model(state: MessagesState):\n",
    "    messages = state[\"messages\"]\n",
    "    response = model_with_tools.invoke(messages)\n",
    "    return {\"messages\": [response]}\n",
    "\n",
    "# 创建状态图\n",
    "workflow = StateGraph(MessagesState)\n",
    "\n",
    "# 定义两个节点：一个用于调用模型，一个用于调用工具\n",
    "workflow.add_node(\"agent\", call_model)\n",
    "workflow.add_node(\"tools\", tool_node)\n",
    "\n",
    "workflow.add_edge(\"__start__\", \"agent\")  # 从 agent 节点开始\n",
    "workflow.add_conditional_edges(\"agent\", should_continue)  # 根据条件判断是否继续调用工具\n",
    "workflow.add_edge(\"tools\", \"agent\")  # 工具调用完成后，返回 agent 节点\n",
    "\n",
    "app = workflow.compile()  # 编译状态图\n",
    "```\n",
    "\n",
    "#### 错误处理\n",
    "\n",
    "ToolNode 默认启用了错误处理，可以处理工具执行中的异常情况。如果想禁用错误处理，可以设置 `handle_tool_errors=False`。\n",
    "\n",
    "#### 总结\n",
    "\n",
    "**ToolNode** 是一个非常强大的组件，它能够自动调用工具并将结果反馈回工作流。它可以处理单个或多个工具调用，并与 LangChain 模型紧密结合，使得在复杂的多步骤任务中能够更高效地调用外部 API 或工具。"
   ]
  },
  {
   "cell_type": "code",
   "execution_count": 57,
   "id": "034f427f",
   "metadata": {},
   "outputs": [],
   "source": [
    "from langgraph.prebuilt import ToolNode\n",
    "\n",
    "# 定义工具列表，包括 Tavily 搜索工具和 Python REPL 工具\n",
    "tools = [tavily_tool, python_repl]\n",
    "\n",
    "# 创建工具节点，负责工具的调用\n",
    "tool_node = ToolNode(tools)"
   ]
  },
  {
   "cell_type": "markdown",
   "id": "745f3686-eda1-4c68-913c-e5f8cf9f1ea1",
   "metadata": {},
   "source": [
    "------------------------"
   ]
  },
  {
   "cell_type": "markdown",
   "id": "dd32b59a-dae0-4b42-8b44-991c6ca18dfd",
   "metadata": {},
   "source": [
    "\n",
    "### 7. 建立智能体节点间通信 AgentState\n",
    "\n",
    "定义智能体节点和工具节点后，接下来需要在 Graph 中使它们互相通信。\n",
    "\n",
    "因此，我们需要定义节点间的消息传递数据结构：AgentState\n",
    "\n",
    "我们使用一个消息列表，并包含一个键来跟踪最近的发送者。\n",
    "\n",
    "#### 注释说明：\n",
    "- `AgentState` 是一个 `TypedDict`，它定义了图中传递的状态对象，包括 `messages` 和 `sender`。`messages` 用于存储传递的消息，`sender` 用于跟踪消息的发送者。\n"
   ]
  },
  {
   "cell_type": "code",
   "execution_count": 58,
   "id": "5046c5d7",
   "metadata": {},
   "outputs": [],
   "source": [
    "import operator\n",
    "from typing import Annotated, Sequence, TypedDict\n",
    "\n",
    "# 定义图中传递的对象，包含消息和发送者信息\n",
    "class AgentState(TypedDict):\n",
    "    # messages 是传递的消息，使用 Annotated 和 Sequence 来标记类型\n",
    "    messages: Annotated[Sequence[BaseMessage], operator.add]\n",
    "    # sender 是发送消息的智能体\n",
    "    sender: str"
   ]
  },
  {
   "cell_type": "markdown",
   "id": "31c47fc6",
   "metadata": {},
   "source": [
    "\n",
    "### 8. 定义工作流（状态图）\n",
    "\n",
    "我们现在将所有内容组合在一起，定义多智能体的完整状态图。\n",
    "\n",
    "#### 注释说明：\n",
    "\n",
    "- `StateGraph(AgentState)`：用于创建一个状态图 `workflow`，其状态由 `AgentState` 管理。\n",
    "- `add_node`：将智能体节点 `Researcher`、`Chart_Generator` 和 `call_tool` 添加到状态图中，每个节点对应一个任务或功能。\n",
    "- `add_conditional_edges`：为节点添加条件边，基于 `router` 函数的返回值来决定下一个要执行的步骤。\n",
    "  - `continue`：继续到另一个智能体节点。\n",
    "  - `call_tool`：调用工具节点。\n",
    "  - `__end__`：结束流程。\n",
    "- `add_edge`：将开始节点 `START` 与初始节点 `Researcher` 连接，定义工作流的启动顺序。\n",
    "- `compile`：编译状态图，准备好执行任务。\n",
    "\n",
    "#### Graph 对象关键方法 API\n",
    "\n",
    "- **add_conditional_edges**: https://langchain-ai.github.io/langgraph/reference/graphs/?h=add+conditional+edges#stategraph\n",
    "- **get_graph**: https://langchain-ai.github.io/langgraph/reference/graphs/?h=add+conditional+edges#langgraph.graph.graph.CompiledGraph.get_graph\n"
   ]
  },
  {
   "cell_type": "code",
   "execution_count": 59,
   "id": "cd89bd10",
   "metadata": {},
   "outputs": [
    {
     "data": {
      "text/plain": [
       "<langgraph.graph.state.StateGraph at 0x1b86af53290>"
      ]
     },
     "execution_count": 59,
     "metadata": {},
     "output_type": "execute_result"
    }
   ],
   "source": [
    "# 创建一个状态图 workflow，使用 AgentState 来管理状态\n",
    "workflow = StateGraph(AgentState)\n",
    "\n",
    "# 将研究智能体节点、图表生成器智能体节点和工具节点添加到状态图中\n",
    "workflow.add_node(\"Researcher\", research_node)\n",
    "# workflow.add_node(\"Chart_Generator\", chart_node)\n",
    "workflow.add_node(\"Table_Show\", table_node)\n",
    "workflow.add_node(\"call_tool\", tool_node)"
   ]
  },
  {
   "cell_type": "markdown",
   "id": "165418d2-f5d1-4c25-ad5e-de5f6080a67d",
   "metadata": {},
   "source": [
    "\n",
    "#### 定义路由函数\n",
    "\n",
    "接下来定义边逻辑，以根据智能体的结果来决定下一步操作。\n",
    "\n",
    "#### 注释说明：\n",
    "- `router` 函数是工作流中的一个关键逻辑，用于根据当前的状态和消息内容来决定下一步的操作。\n",
    "- 如果最新的消息中包含工具调用（`tool_calls`），则返回 `\"call_tool\"`，表示需要调用工具。\n",
    "- 如果消息内容中包含 `\"FINAL ANSWER\"`，表示任务已经完成，返回 `\"__end__\"` 来结束任务。\n",
    "- 如果没有满足以上条件，则返回 `\"continue\"`，表示继续任务并执行下一步操作。"
   ]
  },
  {
   "cell_type": "code",
   "execution_count": 60,
   "id": "013c7a3b",
   "metadata": {},
   "outputs": [],
   "source": [
    "from typing import Literal\n",
    "\n",
    "# 路由器函数，用于决定下一步是执行工具还是结束任务\n",
    "def router(state) -> Literal[\"call_tool\", \"__end__\", \"continue\"]:\n",
    "    messages = state[\"messages\"]  # 获取当前状态中的消息列表\n",
    "    last_message = messages[-1]  # 获取最新的一条消息\n",
    "    \n",
    "    # 如果最新消息包含工具调用，则返回 \"call_tool\"，指示执行工具\n",
    "    if last_message.tool_calls:\n",
    "        return \"call_tool\"\n",
    "    \n",
    "    # 如果最新消息中包含 \"FINAL ANSWER\"，表示任务已完成，返回 \"__end__\" 结束工作流\n",
    "    if \"FINAL ANSWER\" in last_message.content:\n",
    "        return \"__end__\"\n",
    "    \n",
    "    # 如果既没有工具调用也没有完成任务，继续流程，返回 \"continue\"\n",
    "    return \"continue\"\n"
   ]
  },
  {
   "cell_type": "markdown",
   "id": "a97c9182",
   "metadata": {},
   "source": [
    "#### 定义条件边逻辑"
   ]
  },
  {
   "cell_type": "code",
   "execution_count": 61,
   "id": "2d1c9c19-2858-4014-9e40-3dd6f30d92c5",
   "metadata": {},
   "outputs": [
    {
     "data": {
      "text/plain": [
       "<langgraph.graph.state.StateGraph at 0x1b86af53290>"
      ]
     },
     "execution_count": 61,
     "metadata": {},
     "output_type": "execute_result"
    }
   ],
   "source": [
    "# 为 \"Researcher\" 智能体节点添加条件边，根据 router 函数的返回值进行分支\n",
    "workflow.add_conditional_edges(\n",
    "    \"Researcher\",\n",
    "    router,  # 路由器函数决定下一步\n",
    "    {\n",
    "        \"continue\": \"Table_Show\",  # 如果 router 返回 \"continue\"，则传递到 Chart_Generator\n",
    "        \"call_tool\": \"call_tool\",  # 如果 router 返回 \"call_tool\"，则调用工具\n",
    "        \"__end__\": END  # 如果 router 返回 \"__end__\"，则结束工作流\n",
    "    },\n",
    ")\n",
    "\n",
    "# 为 \"Chart_Generator\" 智能体节点添加条件边\n",
    "workflow.add_conditional_edges(\n",
    "    \"Table_Show\",\n",
    "    router,  # 同样使用 router 函数决定下一步\n",
    "    {\n",
    "        \"continue\": \"Researcher\",  # 如果 router 返回 \"continue\"，则回到 Researcher\n",
    "        \"call_tool\": \"call_tool\",  # 如果 router 返回 \"call_tool\"，则调用工具\n",
    "        \"__end__\": END  # 如果 router 返回 \"__end__\"，则结束工作流\n",
    "    },\n",
    ")\n",
    "\n",
    "# 为 \"call_tool\" 工具节点添加条件边，基于“sender”字段决定下一个节点\n",
    "# 工具调用节点不更新 sender 字段，这意味着边将返回给调用工具的智能体\n",
    "workflow.add_conditional_edges(\n",
    "    \"call_tool\",\n",
    "    lambda x: x[\"sender\"],  # 根据 sender 字段判断调用工具的是哪个智能体\n",
    "    {\n",
    "        \"Researcher\": \"Researcher\",  # 如果 sender 是 Researcher，则返回给 Researcher\n",
    "        \"Table_Show\": \"Table_Show\",  # 如果 sender 是 Chart_Generator，则返回给 Chart_Generator\n",
    "    },\n",
    ")\n"
   ]
  },
  {
   "cell_type": "code",
   "execution_count": 62,
   "id": "10670029-c194-4e2b-b002-56218aabd8cb",
   "metadata": {},
   "outputs": [],
   "source": [
    "# 添加开始节点，将流程从 START 节点连接到 Researcher 节点\n",
    "workflow.add_edge(START, \"Researcher\")\n",
    "\n",
    "# 编译状态图以便后续使用\n",
    "graph = workflow.compile()"
   ]
  },
  {
   "cell_type": "code",
   "execution_count": 63,
   "id": "53b403f8-1dfd-40a8-93ef-47a4886226c0",
   "metadata": {},
   "outputs": [
    {
     "data": {
      "image/png": "[encoded data removed]",
      "text/plain": [
       "<IPython.core.display.Image object>"
      ]
     },
     "metadata": {},
     "output_type": "display_data"
    }
   ],
   "source": [
    "# 可视化图\n",
    "from IPython.display import Image, display\n",
    "\n",
    "try:\n",
    "    display(\n",
    "        Image(\n",
    "            graph.get_graph(xray=True).draw_mermaid_png()\n",
    "        )\n",
    "    )\n",
    "except Exception as e:\n",
    "    print(f\"Error generating graph: {e}\")"
   ]
  },
  {
   "cell_type": "markdown",
   "id": "87e9496a",
   "metadata": {},
   "source": [
    "\n",
    "### 9. 执行工作流\n",
    "\n",
    "接下来我们将执行多智能体构建的工作流，最终生成一些统计图表。"
   ]
  },
  {
   "cell_type": "code",
   "execution_count": 77,
   "id": "ee3322cf",
   "metadata": {},
   "outputs": [
    {
     "name": "stdout",
     "output_type": "stream",
     "text": [
      "================================\u001b[1m Human Message \u001b[0m=================================\n",
      "\n",
      "Obtain the GDP of the United States from 2000 to 2020, and then show table svg image with python. End the task after generating the table show.\n",
      "==================================\u001b[1m Ai Message \u001b[0m==================================\n",
      "Name: Researcher\n",
      "Tool Calls:\n",
      "  tavily_search_results_json (call_1GbiWuVaLOrEuYuSm9PB47pq)\n",
      " Call ID: call_1GbiWuVaLOrEuYuSm9PB47pq\n",
      "  Args:\n",
      "    query: GDP of the United States from 2000 to 2020\n",
      "=================================\u001b[1m Tool Message \u001b[0m=================================\n",
      "Name: tavily_search_results_json\n",
      "\n",
      "[{\"title\": \"United States GDP 1990-2024 - Statista\", \"url\": \"https://www.statista.com/statistics/188105/annual-gdp-of-the-united-states-since-1990/\", \"content\": \"| 2023 | 27,356.4 |\\n| 2022 | 25,744.1 |\\n| 2021 | 23,594 |\\n| 2020 | 21,323 |\\n| 2019 | 21,521.4 |\\n| 2018 | 20,656.5 |\\n| 2017 | 19,612.1 |\\n| 2016 | 18,804.9 |\\n| 2015 | 18,295 |\\n| 2014 | 17,608.1 |\\n| 2013 | 16,880.7 |\\n| 2012 | 16,254 |\\n| 2011 | 15,599.7 |\\n| 2010 | 15,049 |\\n| 2009 | 14,478.1 |\\n| 2008 | 14,769.9 |\\n| 2007 | 14,474.2 |\\n| 2006 | 13,815.6 |\\n| 2005 | 13,039.2 |\\n| 2004 | 12,217.2 |\\n| 2003 | 11,456.5 |\\n| 2002 | 10,929.1 |\\n| 2001 | 10,581.9 |\\n| 2000 | 10,251 |\\n| 1999 | 9,631.2 |\", \"score\": 0.66229486}, {\"title\": \"United States GDP - Worldometer\", \"url\": \"https://www.worldometers.info/gdp/us-gdp/\", \"content\": \"2013    $16,843,200,000,000 $17,329,800,000,000 1.84%   $54,137 0.94 %  320,110,759\\n2012    $16,254,000,000,000 $17,016,400,000,000 2.28%   $53,660 0.96 %  317,115,355\\n2011    $15,599,700,000,000 $16,637,000,000,000 1.55%   $52,966 0.98 %  314,105,078\\n2010    $15,049,000,000,000 $16,383,000,000,000 2.71%   $52,668 0.99 %  311,062,790\\n2009    $14,478,100,000,000 $15,950,900,000,000 -2.60%  $51,785 1.00 %  308,023,454 [...] 2008    $14,769,900,000,000 $16,376,700,000,000 0.12%   $53,699 1.04 %  304,970,333\\n2007    $14,474,200,000,000 $16,356,700,000,000 2.01%   $54,189 1.04 %  301,844,226\\n2006    $13,815,600,000,000 $16,034,400,000,000 2.78%   $53,675 1.02 %  298,730,209\\n2005    $13,039,200,000,000 $15,600,200,000,000 3.48%   $52,754 1.00 %  295,716,664\\n2004    $12,217,200,000,000 $15,075,100,000,000 3.85%   $51,488 0.99 %  292,786,253 [...] 2018    $20,533,100,000,000 $19,482,000,000,000 2.95%   $58,145 0.86 %  335,056,497\\n2017    $19,477,300,000,000 $18,924,600,000,000 2.24%   $56,967 0.92 %  332,204,660\\n2016    $18,695,100,000,000 $18,509,600,000,000 1.67%   $56,230 0.94 %  329,179,427\\n2015    $18,206,000,000,000 $18,206,000,000,000 2.71%   $55,825 0.93 %  326,126,497\\n2014    $17,550,700,000,000 $17,726,300,000,000 2.29%   $54,861 0.94 %  323,115,377\", \"score\": 0.57035583}, {\"title\": \"U.S. GDP 1960-2025 - Macrotrends\", \"url\": \"https://www.macrotrends.net/global-metrics/countries/usa/united-states/gdp-gross-domestic-product\", \"content\": \"| 2018 | $20,656.52B | $63,201 | 2.97% |\\n| 2017 | $19,612.10B | $60,322 | 2.46% |\\n| 2016 | $18,804.91B | $58,207 | 1.82% |\\n| 2015 | $18,295.02B | $57,040 | 2.95% |\\n| 2014 | $17,608.14B | $55,304 | 2.52% |\\n| 2013 | $16,880.68B | $53,410 | 2.12% |\\n| 2012 | $16,253.97B | $51,784 | 2.29% |\\n| 2011 | $15,599.73B | $50,066 | 1.56% |\\n| 2010 | $15,048.97B | $48,651 | 2.70% |\\n| 2009 | $14,478.07B | $47,195 | -2.58% |\\n| 2008 | $14,769.86B | $48,570 | 0.11% |\\n| 2007 | $14,474.23B | $48,050 | 2.00% | [...] | Seychelles | $2.14B |\\n| Antigua and Barbuda | $2.03B |\\n| Sint Maarten (Dutch part) | $1.62B |\\n| Turks and Caicos Islands | $1.40B |\\n| St. Kitts and Nevis | $1.08B |\\n| Palau | $0.26B |\\n| U.S. GDP - Historical Data |\\n| --- |\\n| Year | GDP | Per Capita | Growth |\\n| --- | --- | --- | --- |\\n| 2023 | $27,360.94B | $81,695 | 2.54% |\\n| 2022 | $25,744.11B | $77,247 | 1.94% |\\n| 2021 | $23,594.03B | $71,056 | 5.80% |\\n| 2020 | $21,322.95B | $64,317 | -2.21% |\\n| 2019 | $21,521.40B | $65,548 | 2.47% | [...] U.S. gdp for 2023 was $27,360.94B, a 6.28% increase from 2022.\\nU.S. gdp for 2022 was $25,744.11B, a 9.11% increase from 2021.\\nU.S. gdp for 2021 was $23,594.03B, a 10.65% increase from 2020.\\nU.S. gdp for 2020 was $21,322.95B, a 0.92% decline from 2019.\", \"score\": 0.49362883}, {\"title\": \"United States GDP - Trading Economics\", \"url\": \"https://tradingeconomics.com/united-states/gdp\", \"content\": \"United States GDP\\nThe gross domestic product (GDP) measures of national income and output for a given country's economy. The gross domestic product (GDP) is equal to the total expenditures for all final goods and services produced within the country in a stipulated period of time.\\n|  | Actual | Previous | Highest | Lowest | Dates | Unit | Frequency |  |\\n| --- | --- | --- | --- | --- | --- | --- | --- | --- |\\n|  | 27360.94 | 25744.11 | 27360.94 | 541.99 | 1960 - 2023 | USD Billion | Yearly | [...] Interest Rate\\nInflation Rate\\nUnemployment Rate\\nGDP Growth\\nGDP per Capita\\nCurrent Account\\nGold Reserves\\nGovernment Debt\\nCrude Oil Production\\nGasoline Prices\\nCredit Rating\\nMore Indicators\\n\\nForecasts\\n\\nMarkets & Indicators\\nCountries\\nCountries\\nIndicators\\nCurrencies\\nStocks\\nCommodities\\nBonds\\nCrypto\\n\\nSolutions\\n\\nData Subscriptions\\nAPI Access\\nPricing\\n\\nApps\\n\\nApp Store\\nGoogle Play\\nTwitter\\n\\nAbout\\n\\nCustomers\\nInvestors\\nCareers\\nAbout us\\nContact\\n\\nUnited States GDP\\n\\nSummary\\nStats\\nForecast\\nDownload [...] The Gross Domestic Product (GDP) in the United States was worth 27360.94 billion US dollars in 2023, according to official data from the World Bank. The GDP value of the United States represents 25.95 percent of the world economy. source: World Bank\", \"score\": 0.47957736}, {\"title\": \"Gross Domestic Product (GDP) | FRED | St. Louis Fed\", \"url\": \"https://fred.stlouisfed.org/series/GDP\", \"content\": \"Gross domestic product (GDP), the featured measure of U.S. output, is the market value of the goods and services produced by labor and property located in the United States.For more information, see the Guide to the National Income and Product Accounts of the United States (NIPA) and the Bureau of Economic Analysis.\\nSuggested Citation: [...] NOTES\\nSource: U.S. Bureau of Economic Analysis\\nRelease: Gross Domestic Product\\nUnits:  Billions of Dollars, Seasonally Adjusted Annual Rate\\nFrequency:  Quarterly\\nNotes:\\nBEA Account Code: A191RC [...] National Income and Product Accounts Bureau of Economic Analysis Gross Domestic Product Quarterly Seasonally Adjusted Nation Public Domain: Citation Requested United States of America\\nPermalink/Embed\\nmodal open, choose link customization options\\nMake it responsive\\nSee FRED Help for usage instructions\\nDone\\nFilter 0\\nNeed Help?\\nQuestions or Comments\\nFRED Help\\nSubscribe to the FRED newsletter\\nSubscribe\", \"score\": 0.37676126}]\n",
      "==================================\u001b[1m Ai Message \u001b[0m==================================\n",
      "Name: Researcher\n",
      "\n",
      "Here is the GDP of the United States from 2000 to 2020 based on data from Statista:\n",
      "\n",
      "- 2000: $10,251 billion\n",
      "- 2001: $10,581.9 billion\n",
      "- 2002: $10,929.1 billion\n",
      "- 2003: $11,456.5 billion\n",
      "- 2004: $12,217.2 billion\n",
      "- 2005: $13,039.2 billion\n",
      "- 2006: $13,815.6 billion\n",
      "- 2007: $14,474.2 billion\n",
      "- 2008: $14,769.9 billion\n",
      "- 2009: $14,478.1 billion\n",
      "- 2010: $15,049 billion\n",
      "- 2011: $15,599.7 billion\n",
      "- 2012: $16,254 billion\n",
      "- 2013: $16,880.7 billion\n",
      "- 2014: $17,608.1 billion\n",
      "- 2015: $18,295 billion\n",
      "- 2016: $18,804.9 billion\n",
      "- 2017: $19,612.1 billion\n",
      "- 2018: $20,656.5 billion\n",
      "- 2019: $21,521.4 billion\n",
      "- 2020: $21,323 billion\n",
      "\n",
      "The next step involves creating a table SVG image with this data using Python. Another assistant with the appropriate tools will handle this part.\n",
      "==================================\u001b[1m Ai Message \u001b[0m==================================\n",
      "Name: Table_Show\n",
      "Tool Calls:\n",
      "  python_repl (call_U2c1EHMadj4yzxXCrQwsNx78)\n",
      " Call ID: call_U2c1EHMadj4yzxXCrQwsNx78\n",
      "  Args:\n",
      "    code: import pandas as pd\n",
      "import matplotlib.pyplot as plt\n",
      "\n",
      "data = {'Year': [2000, 2001, 2002, 2003, 2004, 2005, 2006, 2007, 2008, 2009, 2010, 2011, 2012, 2013, 2014, 2015, 2016, 2017, 2018, 2019, 2020],\n",
      "        'GDP (in billion $)': [10251, 10581.9, 10929.1, 11456.5, 12217.2, 13039.2, 13815.6, 14474.2, 14769.9, 14478.1, 15049, 15599.7, 16254, 16880.7, 17608.1, 18295, 18804.9, 19612.1, 20656.5, 21521.4, 21323]}\n",
      "\n",
      "df = pd.DataFrame(data)\n",
      "\n",
      "def plot_table(data_frame):\n",
      "    fig, ax = plt.subplots(figsize=(10, 8))\n",
      "    ax.axis('off') \n",
      "    table = ax.table(cellText=data_frame.values, colLabels=data_frame.columns, cellLoc='center', loc='center')\n",
      "    table.auto_set_font_size(False)\n",
      "    table.set_fontsize(12)\n",
      "    table.scale(1.2, 1.2)\n",
      "    plt.title('GDP of the United States (2000-2020)', fontsize=18, fontweight='bold')\n",
      "    plt.savefig('/mnt/data/GDP_2000_2020.svg')\n",
      "    plt.show()\n",
      "\n",
      "plot_table(df)\n",
      "=================================\u001b[1m Tool Message \u001b[0m=================================\n",
      "Name: python_repl\n",
      "\n",
      "Successfully executed:\n",
      "```python\n",
      "import pandas as pd\n",
      "import matplotlib.pyplot as plt\n",
      "\n",
      "data = {'Year': [2000, 2001, 2002, 2003, 2004, 2005, 2006, 2007, 2008, 2009, 2010, 2011, 2012, 2013, 2014, 2015, 2016, 2017, 2018, 2019, 2020],\n",
      "        'GDP (in billion $)': [10251, 10581.9, 10929.1, 11456.5, 12217.2, 13039.2, 13815.6, 14474.2, 14769.9, 14478.1, 15049, 15599.7, 16254, 16880.7, 17608.1, 18295, 18804.9, 19612.1, 20656.5, 21521.4, 21323]}\n",
      "\n",
      "df = pd.DataFrame(data)\n",
      "\n",
      "def plot_table(data_frame):\n",
      "    fig, ax = plt.subplots(figsize=(10, 8))\n",
      "    ax.axis('off') \n",
      "    table = ax.table(cellText=data_frame.values, colLabels=data_frame.columns, cellLoc='center', loc='center')\n",
      "    table.auto_set_font_size(False)\n",
      "    table.set_fontsize(12)\n",
      "    table.scale(1.2, 1.2)\n",
      "    plt.title('GDP of the United States (2000-2020)', fontsize=18, fontweight='bold')\n",
      "    plt.savefig('/mnt/data/GDP_2000_2020.svg')\n",
      "    plt.show()\n",
      "\n",
      "plot_table(df)\n",
      "```\n",
      "\n",
      "==================================\u001b[1m Ai Message \u001b[0m==================================\n",
      "Name: Table_Show\n",
      "\n",
      "The SVG image showing the GDP of the United States from 2000 to 2020 has been successfully generated and saved.\n",
      "\n",
      "[Download the SVG file](sandbox:/mnt/data/GDP_2000_2020.svg)\n",
      "\n",
      "FINAL ANSWER\n"
     ]
    }
   ],
   "source": [
    "events = graph.stream(\n",
    "    {\n",
    "        \"messages\": [\n",
    "            HumanMessage(\n",
    "                content=\"Obtain the GDP of the United States from 2000 to 2020, \"\n",
    "            \"and then show table svg image with python. End the task after generating the table show.\"\n",
    "            )\n",
    "        ],\n",
    "    },\n",
    "    # 设置最大递归限制\n",
    "    {\"recursion_limit\": 20},\n",
    "    stream_mode=\"values\"\n",
    ")\n",
    "\n",
    "for event in events:\n",
    "    if \"messages\" in event:\n",
    "        event[\"messages\"][-1].pretty_print()  # 打印消息内容\n"
   ]
  },
  {
   "cell_type": "code",
   "execution_count": 79,
   "id": "862f39b6-79c7-46a3-b705-8835bc15d0d8",
   "metadata": {},
   "outputs": [
    {
     "data": {
      "image/png": "[encoded data removed]",
      "text/plain": [
       "<Figure size 1000x800 with 1 Axes>"
      ]
     },
     "metadata": {},
     "output_type": "display_data"
    }
   ],
   "source": [
    "import pandas as pd\n",
    "import matplotlib.pyplot as plt\n",
    "\n",
    "data = {'Year': [2000, 2001, 2002, 2003, 2004, 2005, 2006, 2007, 2008, 2009, 2010, 2011, 2012, 2013, 2014, 2015, 2016, 2017, 2018, 2019, 2020],\n",
    "        'GDP (in billion $)': [10251, 10581.9, 10929.1, 11456.5, 12217.2, 13039.2, 13815.6, 14474.2, 14769.9, 14478.1, 15049, 15599.7, 16254, 16880.7, 17608.1, 18295, 18804.9, 19612.1, 20656.5, 21521.4, 21323]}\n",
    "\n",
    "df = pd.DataFrame(data)\n",
    "\n",
    "def plot_table(data_frame):\n",
    "    fig, ax = plt.subplots(figsize=(10, 8))\n",
    "    ax.axis('off') \n",
    "    table = ax.table(cellText=data_frame.values, colLabels=data_frame.columns, cellLoc='center', loc='center')\n",
    "    table.auto_set_font_size(False)\n",
    "    table.set_fontsize(12)\n",
    "    table.scale(1.2, 1.2)\n",
    "    plt.title('GDP of the United States (2000-2020)', fontsize=18, fontweight='bold')\n",
    "    plt.show()\n",
    "\n",
    "plot_table(df)"
   ]
  },
  {
   "cell_type": "code",
   "execution_count": null,
   "id": "3480064c-3fbe-40ca-bb5a-80403d4b39c9",
   "metadata": {},
   "outputs": [],
   "source": []
  },
  {
   "cell_type": "code",
   "execution_count": null,
   "id": "7057fa47-8044-4e63-9dfd-b3ee7dd4d1f7",
   "metadata": {},
   "outputs": [],
   "source": []
  },
  {
   "cell_type": "markdown",
   "id": "3d89aecb-4d44-46a2-8700-c6817b1cdf39",
   "metadata": {},
   "source": [
    "## Homework\n",
    "\n",
    "1. 使用不同的大模型运行多智能体，对比结果并评选 `gpt-4o` 之下最好的大模型，将所有的大模型和最终结果生成一张表格；\n",
    "2. 将 `Chart_Generator` 替换为其他功能智能体（如 `table_generator`），为其设计提示词，然后运行查看生成结果。\n",
    "3. [**可选**]优化研究智能体 `Researcher` 提示词和路由函数 `route` 跳转逻辑，提升图表生成的成功率。"
   ]
  },
  {
   "cell_type": "code",
   "execution_count": null,
   "id": "439f65c8-53ac-46ae-b9d6-aa5cafa93fc6",
   "metadata": {},
   "outputs": [],
   "source": []
  },
  {
   "cell_type": "code",
   "execution_count": null,
   "id": "7ae7de09-9232-4383-b10b-382e7a7a6e1d",
   "metadata": {},
   "outputs": [],
   "source": []
  },
  {
   "cell_type": "code",
   "execution_count": null,
   "id": "a2ac3a66-fa05-464f-955b-f558f179fda2",
   "metadata": {},
   "outputs": [],
   "source": []
  },
  {
   "cell_type": "code",
   "execution_count": null,
   "id": "313ac070-993e-4917-ad13-1bd274b5b73d",
   "metadata": {},
   "outputs": [],
   "source": []
  },
  {
   "cell_type": "code",
   "execution_count": null,
   "id": "7827953b-f16a-4d23-929a-73a8aca40d57",
   "metadata": {},
   "outputs": [],
   "source": []
  },
  {
   "cell_type": "code",
   "execution_count": null,
   "id": "b341ec25-8f83-4d28-b052-a35cc2aea2a1",
   "metadata": {},
   "outputs": [],
   "source": []
  }
 ],
 "metadata": {
  "kernelspec": {
   "display_name": "Python 3",
   "language": "python",
   "name": "python3"
  },
  "language_info": {
   "codemirror_mode": {
    "name": "ipython",
    "version": 3
   },
   "file_extension": ".py",
   "mimetype": "text/x-python",
   "name": "python",
   "nbconvert_exporter": "python",
   "pygments_lexer": "ipython3",
   "version": "3.12.2"
  }
 },
 "nbformat": 4,
 "nbformat_minor": 5
}
